{
 "cells": [
  {
   "cell_type": "code",
   "execution_count": null,
   "id": "33842003",
   "metadata": {},
   "outputs": [],
   "source": [
    "from wisconsin import data\n",
    "from sklearn.preprocessing import MinMaxScaler\n",
    "import pandas as pd\n"
   ]
  },
  {
   "cell_type": "markdown",
   "id": "25d1faec",
   "metadata": {},
   "source": [
    "## Download data"
   ]
  },
  {
   "cell_type": "code",
   "execution_count": null,
   "id": "72a834b6",
   "metadata": {},
   "outputs": [],
   "source": [
    "data.download(unzip=True)"
   ]
  },
  {
   "cell_type": "markdown",
   "id": "b7600ee3",
   "metadata": {},
   "source": [
    "## Extract target and features"
   ]
  },
  {
   "cell_type": "code",
   "execution_count": null,
   "id": "9669cca7",
   "metadata": {},
   "outputs": [],
   "source": [
    "df = data.load()\n",
    "df = df.drop(columns=['ID'])\n",
    "features = df.drop(columns=['Diagnosis'])\n",
    "target = df['Diagnosis']\n"
   ]
  },
  {
   "cell_type": "code",
   "execution_count": null,
   "id": "14d16cb8",
   "metadata": {},
   "outputs": [],
   "source": [
    "df.info()"
   ]
  },
  {
   "cell_type": "markdown",
   "id": "af0682c4",
   "metadata": {},
   "source": [
    "## Class distribution"
   ]
  },
  {
   "cell_type": "code",
   "execution_count": null,
   "id": "d37400ac",
   "metadata": {},
   "outputs": [],
   "source": [
    "import plotly.express as px\n",
    "\n",
    "class_counts = target.value_counts().reset_index()\n",
    "class_counts.columns = [target.name, 'Count']\n",
    "\n",
    "fig = px.pie(\n",
    "    class_counts,\n",
    "    values='Count',\n",
    "    names=target.name,\n",
    "    title='Class Distribution'\n",
    ")\n",
    "\n",
    "fig.show()"
   ]
  },
  {
   "cell_type": "markdown",
   "id": "2ef4c4dd",
   "metadata": {},
   "source": [
    "## Feature Separation"
   ]
  },
  {
   "cell_type": "markdown",
   "id": "3d5f76e5",
   "metadata": {},
   "source": [
    "### Group by feature type\n",
    "\n",
    "The dataset contains 10 distinct feature types, each with 3 measurements, for a total of 30 features.\n",
    "\n",
    "Given the remarkable performance of baselines models in this dataset, it is worth visualising how cleanly each feature separates the two labelled classes."
   ]
  },
  {
   "cell_type": "markdown",
   "id": "f0035eb7",
   "metadata": {},
   "source": [
    "* First group the features by their suffix (`1`, `2` or `3`)."
   ]
  },
  {
   "cell_type": "code",
   "execution_count": null,
   "id": "670d8cfb",
   "metadata": {},
   "outputs": [],
   "source": [
    "import re\n",
    "\n",
    "pattern = re.compile(r'([a-zA-Z_]+)([123])$')\n",
    "\n",
    "feature_map = {}\n",
    "for col in features:\n",
    "    match = pattern.match(col)\n",
    "    if match:\n",
    "        base, variant = match.groups()\n",
    "        feature_map.setdefault(variant, []).append(col)\n",
    "\n",
    "for k in feature_map:\n",
    "    feature_map[k].sort()\n",
    "\n",
    "print(feature_map)"
   ]
  },
  {
   "cell_type": "markdown",
   "id": "69dc080c",
   "metadata": {},
   "source": [
    "### Feature Comparison per group"
   ]
  },
  {
   "cell_type": "markdown",
   "id": "4f2e2684",
   "metadata": {},
   "source": [
    "- scale the feature values to be between 1 and 0\n",
    "- reshape data\n",
    "- violin plots for each group"
   ]
  },
  {
   "cell_type": "code",
   "execution_count": null,
   "id": "fc63bc72",
   "metadata": {},
   "outputs": [],
   "source": [
    "df_scaled = df.copy()\n",
    "\n",
    "scaler = MinMaxScaler()\n",
    "df_scaled[features.columns] = scaler.fit_transform(df_scaled[features.columns])\n",
    "\n",
    "for variant, cols in feature_map.items():\n",
    "    df_group = df_scaled[cols + ['Diagnosis']].copy()\n",
    "    \n",
    "    df_melted = df_group.melt(\n",
    "        id_vars='Diagnosis',\n",
    "        value_vars=cols,\n",
    "        var_name='Feature',\n",
    "        value_name='Value'\n",
    "    )\n",
    "    \n",
    "    fig = px.violin(\n",
    "        df_melted,\n",
    "        x='Feature',\n",
    "        y='Value',\n",
    "        color='Diagnosis',\n",
    "        box=True,\n",
    "        points=False,\n",
    "        title=f'Feature Group {variant} Distributions'\n",
    "    )\n",
    "    \n",
    "    fig.update_layout(xaxis_tickangle=-45)\n",
    "    fig.show()\n"
   ]
  },
  {
   "cell_type": "markdown",
   "id": "4153e39c",
   "metadata": {},
   "source": [
    "- Clear separation between classes for the majority of features.\n",
    "- Group 2 has noticeably smaller averages than groups 1 and 3, although the relative pattern looks similar."
   ]
  },
  {
   "cell_type": "markdown",
   "id": "d0b0f7e3",
   "metadata": {},
   "source": [
    "### Feature Group Comparisons"
   ]
  },
  {
   "cell_type": "markdown",
   "id": "24ecd42a",
   "metadata": {},
   "source": [
    "- From above plot, Group 2 appears to have noticeably smaller averages than Group 1 and Group 3.\n",
    "- To visualise more cleary, group by feature type, scale each group individually and plot feature distributions"
   ]
  },
  {
   "cell_type": "code",
   "execution_count": null,
   "id": "024c6ff3",
   "metadata": {},
   "outputs": [],
   "source": [
    "pattern = re.compile(r'([a-zA-Z_]+)([123])$')\n",
    "\n",
    "feature_groups = {}\n",
    "for col in df.columns:\n",
    "    if col in ['ID', 'Diagnosis']:\n",
    "        continue\n",
    "    match = pattern.match(col)\n",
    "    if match:\n",
    "        base, subtype = match.groups()\n",
    "        feature_groups.setdefault(base, []).append(col)\n",
    "\n",
    "print(feature_groups)"
   ]
  },
  {
   "cell_type": "code",
   "execution_count": null,
   "id": "4d642342",
   "metadata": {},
   "outputs": [],
   "source": [
    "df_group_scaled = df.copy()\n",
    "for base, cols in feature_groups.items():\n",
    "    group_vals = df[cols].values\n",
    "    scaler = MinMaxScaler()\n",
    "    scaled_vals = scaler.fit_transform(group_vals)\n",
    "    df_group_scaled[cols] = scaled_vals\n",
    "\n",
    "records = []\n",
    "for base, cols in feature_groups.items():\n",
    "    for subtype in ['1', '2', '3']:\n",
    "        col_name = f\"{base}{subtype}\"\n",
    "        if col_name in df_group_scaled.columns:\n",
    "            for val in df_group_scaled[col_name]:\n",
    "                records.append({\n",
    "                    'Feature': base,\n",
    "                    'Subtype': subtype,\n",
    "                    'Value': val\n",
    "                })\n",
    "\n",
    "df_long_scaled = pd.DataFrame(records)\n",
    "\n",
    "fig = px.box(\n",
    "    df_long_scaled,\n",
    "    x='Subtype',\n",
    "    y='Value',\n",
    "    facet_col='Feature',\n",
    "    facet_col_wrap=2,\n",
    "    points='outliers',\n",
    "    title='Boxplots of Each Feature Subtype (Scaled Per Feature Group)'\n",
    ")\n",
    "\n",
    "fig.update_layout(width=600,height=1000)\n",
    "fig.for_each_annotation(lambda a: a.update(text=a.text.split(\"=\")[-1]))\n",
    "\n",
    "fig.show()"
   ]
  },
  {
   "cell_type": "markdown",
   "id": "579ffbcd",
   "metadata": {},
   "source": [
    "- Typically, interquartile ranges for Group 2 do not often overlap those of Group 1 or Group 3."
   ]
  },
  {
   "cell_type": "markdown",
   "id": "e7d8bddc",
   "metadata": {},
   "source": [
    "### Dimension reduction\n",
    "\n",
    "Is the data nicely separated when reducing to fewer dimensions?\n",
    "\n",
    "#### UMAP"
   ]
  },
  {
   "cell_type": "code",
   "execution_count": null,
   "id": "dabc440d",
   "metadata": {},
   "outputs": [],
   "source": [
    "import pandas as pd\n",
    "import umap.umap_ as umap\n",
    "import plotly.express as px\n",
    "from sklearn.preprocessing import StandardScaler\n",
    "\n",
    "scaler = StandardScaler()\n",
    "X_scaled = scaler.fit_transform(features)\n",
    "\n",
    "reducer = umap.UMAP(n_neighbors=15, min_dist=0.1, random_state=42)\n",
    "X_umap = reducer.fit_transform(X_scaled)\n",
    "\n",
    "umap_df = pd.DataFrame(X_umap, columns=['UMAP1', 'UMAP2'])\n",
    "umap_df[target.name] = target.values\n",
    "\n",
    "# Step 5: Plot using Plotly\n",
    "fig = px.scatter(\n",
    "    umap_df,\n",
    "    x='UMAP1',\n",
    "    y='UMAP2',\n",
    "    color=target.name,\n",
    "    title='UMAP Projection of Feature Space',\n",
    "    opacity=0.7\n",
    ")\n",
    "fig.update_layout(\n",
    "    width=700,\n",
    "    height=700,\n",
    ")\n",
    "fig.show()"
   ]
  },
  {
   "cell_type": "markdown",
   "id": "e16b0db1",
   "metadata": {},
   "source": [
    "#### TSNE"
   ]
  },
  {
   "cell_type": "code",
   "execution_count": null,
   "id": "199ddce3",
   "metadata": {},
   "outputs": [],
   "source": [
    "from sklearn.manifold import TSNE\n",
    "import pandas as pd\n",
    "import plotly.express as px\n",
    "from sklearn.preprocessing import StandardScaler\n",
    "\n",
    "\n",
    "# Step 2: Scale\n",
    "X_scaled = StandardScaler().fit_transform(features)\n",
    "\n",
    "# Step 3: t-SNE\n",
    "tsne = TSNE(n_components=2, perplexity=30, learning_rate=200, random_state=42)\n",
    "X_tsne = tsne.fit_transform(X_scaled)\n",
    "\n",
    "# Step 4: Plot\n",
    "tsne_df = pd.DataFrame(X_tsne, columns=['TSNE1', 'TSNE2'])\n",
    "tsne_df[target.name] = target\n",
    "\n",
    "fig = px.scatter(\n",
    "    tsne_df,\n",
    "    x='TSNE1',\n",
    "    y='TSNE2',\n",
    "    color=target.name,\n",
    "    title='t-SNE Projection of Feature Space',\n",
    "    width=700,\n",
    "    height=700\n",
    ")\n",
    "fig.show()\n"
   ]
  },
  {
   "cell_type": "markdown",
   "id": "e9c3a30e",
   "metadata": {},
   "source": [
    "#### PCA"
   ]
  },
  {
   "cell_type": "code",
   "execution_count": null,
   "id": "d4e06198",
   "metadata": {},
   "outputs": [],
   "source": [
    "from sklearn.decomposition import PCA\n",
    "from sklearn.preprocessing import StandardScaler\n",
    "import pandas as pd\n",
    "import plotly.express as px\n",
    "\n",
    "scaler = StandardScaler()\n",
    "X_scaled = scaler.fit_transform(features)\n",
    "\n",
    "# Step 3: PCA\n",
    "pca = PCA(n_components=2)\n",
    "X_pca = pca.fit_transform(X_scaled)\n",
    "explained_var = pca.explained_variance_ratio_\n",
    "\n",
    "# Step 4: Plot\n",
    "pca_df = pd.DataFrame(X_pca, columns=['PC1', 'PC2'])\n",
    "pca_df[target.name] = target\n",
    "\n",
    "fig = px.scatter(\n",
    "    pca_df,\n",
    "    x='PC1',\n",
    "    y='PC2',\n",
    "    color=target.name,\n",
    "    title=f'PCA: PC1 ({explained_var[0]:.2%}) vs PC2 ({explained_var[1]:.2%})',\n",
    "    width=700,\n",
    "    height=700\n",
    ")\n",
    "\n",
    "# Set equal aspect ratio\n",
    "fig.update_layout(yaxis_scaleanchor='x')\n",
    "fig.show()\n"
   ]
  },
  {
   "cell_type": "code",
   "execution_count": null,
   "id": "c9cc33cd",
   "metadata": {},
   "outputs": [],
   "source": [
    "import matplotlib.pyplot as plt\n",
    "import numpy as np\n",
    "\n",
    "pca_full = PCA().fit(X_scaled)\n",
    "explained_var_ratio = pca_full.explained_variance_ratio_\n",
    "cumulative = np.cumsum(explained_var_ratio)\n",
    "components = list(range(1, len(explained_var_ratio) + 1))\n",
    "\n",
    "fig = go.Figure()\n",
    "\n",
    "fig.add_trace(go.Scatter(\n",
    "    x=components,\n",
    "    y=cumulative,\n",
    "    mode='lines+markers',\n",
    "    marker=dict(size=8),\n",
    "    name='Cumulative Explained Variance'\n",
    "))\n",
    "\n",
    "fig.update_layout(\n",
    "    title='Scree Plot - Cumulative Explained Variance',\n",
    "    xaxis_title='Number of Principal Components',\n",
    "    yaxis_title='Cumulative Explained Variance',\n",
    "    xaxis=dict(dtick=1),\n",
    "    width=800,\n",
    "    height=500\n",
    ")\n",
    "\n",
    "fig.show()\n"
   ]
  },
  {
   "cell_type": "markdown",
   "id": "499b410d",
   "metadata": {},
   "source": [
    "### Feature Correlation Heatmap"
   ]
  },
  {
   "cell_type": "code",
   "execution_count": null,
   "id": "7c954b17",
   "metadata": {},
   "outputs": [],
   "source": [
    "import plotly.express as px\n",
    "\n",
    "\n",
    "corr_matrix = features[sorted(features.columns)].corr()\n",
    "\n",
    "fig = px.imshow(\n",
    "    corr_matrix,\n",
    "    text_auto='.2f',\n",
    "    color_continuous_scale='Plasma_r',\n",
    "    zmin=-1,\n",
    "    zmax=1,\n",
    "    title='Feature Correlation Heatmap'\n",
    ")\n",
    "\n",
    "fig.update_layout(\n",
    "    xaxis_title=\"Features\",\n",
    "    yaxis_title=\"Features\",\n",
    "    width=800,\n",
    "    height=800\n",
    ")\n",
    "\n",
    "fig.show()\n"
   ]
  }
 ],
 "metadata": {
  "kernelspec": {
   "display_name": "wisconsin-3.12",
   "language": "python",
   "name": "python3"
  },
  "language_info": {
   "codemirror_mode": {
    "name": "ipython",
    "version": 3
   },
   "file_extension": ".py",
   "mimetype": "text/x-python",
   "name": "python",
   "nbconvert_exporter": "python",
   "pygments_lexer": "ipython3",
   "version": "3.12.0"
  }
 },
 "nbformat": 4,
 "nbformat_minor": 5
}
